{
 "cells": [
  {
   "cell_type": "code",
   "execution_count": null,
   "metadata": {
    "collapsed": true,
    "pycharm": {
     "name": "#%% DESCRIPTION\n"
    }
   },
   "outputs": [],
   "source": [
    "\"\"\"\n",
    "\n",
    "This notebook reconstructs full storytelling time series for each subject\n",
    "from the parseEPI outputted listener and speaker time series.\n",
    "\n",
    "It saves these out as nifti files with condition labels in the file\n",
    "name (independent, joint) -- 2 files per subject.\n",
    "\n",
    "These nifti files can be used by make_hyperalignment_datasets.py to\n",
    "make pymvpa datasets. Note that these can later be sliced, for\n",
    "example, into just listening or just reading intervals within the\n",
    "dataset format to try things like hyperaligning on the listening\n",
    "task and testing on the concatenated storytelling listening data, etc...\n",
    "\n",
    "\"\"\"\n"
   ]
  },
  {
   "cell_type": "code",
   "execution_count": 1,
   "outputs": [],
   "source": [
    "import pickle\n",
    "import numpy as np\n",
    "import pandas as pd\n",
    "import scipy.io as sio\n",
    "from scipy import stats\n",
    "from nilearn import image as nImage\n",
    "from nilearn import input_data\n",
    "# from nilearn import datasets\n",
    "# from nilearn import surface\n",
    "# from nilearn import plotting"
   ],
   "metadata": {
    "collapsed": false,
    "pycharm": {
     "name": "#%% import modules\n"
    }
   }
  },
  {
   "cell_type": "code",
   "execution_count": 2,
   "outputs": [],
   "source": [
    "saveFolder = '/dartfs-hpc/rc/lab/W/WheatleyT/f00589z/hyperscanning/preprocessing/hyperalignment/input_nifti_files/'"
   ],
   "metadata": {
    "collapsed": false,
    "pycharm": {
     "name": "#%%\n"
    }
   }
  },
  {
   "cell_type": "code",
   "execution_count": 3,
   "outputs": [],
   "source": [
    "loadFolder = '/dartfs-hpc/rc/lab/W/WheatleyT/f00589z/hyperscanning/storytelling/misc/'\n",
    "with open(loadFolder + 'pairMap_all_DBIC_CBS_pairs.pkl', 'rb') as f:\n",
    "    pairMap = pickle.load(f)"
   ],
   "metadata": {
    "collapsed": false,
    "pycharm": {
     "name": "#%% load pairMap\n"
    }
   }
  },
  {
   "cell_type": "code",
   "execution_count": 4,
   "outputs": [],
   "source": [
    "# kind of hacky but predefining the total number of TRs that will be in each concatenated time series\n",
    "totTRs = 615\n",
    "\n",
    "# number of TRs per turn\n",
    "TRsPerTurn = 41\n",
    "\n",
    "# number of speech turns per participant per condition\n",
    "numTurns = round(totTRs / TRsPerTurn)\n",
    "\n",
    "numPairs = 8\n",
    "\n",
    "# get speaker/listener TR indices\n",
    "turnTRs = [[]] * numTurns * 2\n",
    "for TURN in range(int(numTurns * 2)):\n",
    "    if TURN == 0:\n",
    "        inds = np.array(list(range(TRsPerTurn)))\n",
    "    else:\n",
    "        inds = inds + TRsPerTurn\n",
    "    turnTRs[TURN] = inds"
   ],
   "metadata": {
    "collapsed": false,
    "pycharm": {
     "name": "#%% get turn TRs\n"
    }
   }
  },
  {
   "cell_type": "code",
   "execution_count": 12,
   "outputs": [
    {
     "data": {
      "text/plain": "   dbicNum     dbicID cbsNum      cbsID pairType condition dbicSpeaker  \\\n0        2  sid000007      2  hid000002        1         0           0   \n1        2  sid000007      2  hid000002        1         0           1   \n2        2  sid000007      2  hid000002        1         1           0   \n3        2  sid000007      2  hid000002        1         1           1   \n4        3  sid000009      3  hid000003        1         0           0   \n5        3  sid000009      3  hid000003        1         0           1   \n6        3  sid000009      3  hid000003        1         1           0   \n7        3  sid000009      3  hid000003        1         1           1   \n8        4  sid000560      4  hid000004        1         0           0   \n9        4  sid000560      4  hid000004        1         0           1   \n10       4  sid000560      4  hid000004        1         1           0   \n11       4  sid000560      4  hid000004        1         1           1   \n12       5  sid000535      5  hid000005        1         0           0   \n13       5  sid000535      5  hid000005        1         0           1   \n14       5  sid000535      5  hid000005        1         1           0   \n15       5  sid000535      5  hid000005        1         1           1   \n16       6  sid000102      6  hid000006        1         0           0   \n17       6  sid000102      6  hid000006        1         0           1   \n18       6  sid000102      6  hid000006        1         1           0   \n19       6  sid000102      6  hid000006        1         1           1   \n20       7  sid000416      7  hid000007        1         0           0   \n21       7  sid000416      7  hid000007        1         0           1   \n22       7  sid000416      7  hid000007        1         1           0   \n23       7  sid000416      7  hid000007        1         1           1   \n24       8  sid000499      8  hid000008        1         0           0   \n25       8  sid000499      8  hid000008        1         0           1   \n26       8  sid000499      8  hid000008        1         1           0   \n27       8  sid000499      8  hid000008        1         1           1   \n28       9  sid000142      9  hid000009        1         0           0   \n29       9  sid000142      9  hid000009        1         0           1   \n30       9  sid000142      9  hid000009        1         1           0   \n31       9  sid000142      9  hid000009        1         1           1   \n\n                                                sFile  \\\n0   /dartfs-hpc/rc/lab/W/WheatleyT/f00589z/hypersc...   \n1   /dartfs-hpc/rc/lab/W/WheatleyT/f00589z/hypersc...   \n2   /dartfs-hpc/rc/lab/W/WheatleyT/f00589z/hypersc...   \n3   /dartfs-hpc/rc/lab/W/WheatleyT/f00589z/hypersc...   \n4   /dartfs-hpc/rc/lab/W/WheatleyT/f00589z/hypersc...   \n5   /dartfs-hpc/rc/lab/W/WheatleyT/f00589z/hypersc...   \n6   /dartfs-hpc/rc/lab/W/WheatleyT/f00589z/hypersc...   \n7   /dartfs-hpc/rc/lab/W/WheatleyT/f00589z/hypersc...   \n8   /dartfs-hpc/rc/lab/W/WheatleyT/f00589z/hypersc...   \n9   /dartfs-hpc/rc/lab/W/WheatleyT/f00589z/hypersc...   \n10  /dartfs-hpc/rc/lab/W/WheatleyT/f00589z/hypersc...   \n11  /dartfs-hpc/rc/lab/W/WheatleyT/f00589z/hypersc...   \n12  /dartfs-hpc/rc/lab/W/WheatleyT/f00589z/hypersc...   \n13  /dartfs-hpc/rc/lab/W/WheatleyT/f00589z/hypersc...   \n14  /dartfs-hpc/rc/lab/W/WheatleyT/f00589z/hypersc...   \n15  /dartfs-hpc/rc/lab/W/WheatleyT/f00589z/hypersc...   \n16  /dartfs-hpc/rc/lab/W/WheatleyT/f00589z/hypersc...   \n17  /dartfs-hpc/rc/lab/W/WheatleyT/f00589z/hypersc...   \n18  /dartfs-hpc/rc/lab/W/WheatleyT/f00589z/hypersc...   \n19  /dartfs-hpc/rc/lab/W/WheatleyT/f00589z/hypersc...   \n20  /dartfs-hpc/rc/lab/W/WheatleyT/f00589z/hypersc...   \n21  /dartfs-hpc/rc/lab/W/WheatleyT/f00589z/hypersc...   \n22  /dartfs-hpc/rc/lab/W/WheatleyT/f00589z/hypersc...   \n23  /dartfs-hpc/rc/lab/W/WheatleyT/f00589z/hypersc...   \n24  /dartfs-hpc/rc/lab/W/WheatleyT/f00589z/hypersc...   \n25  /dartfs-hpc/rc/lab/W/WheatleyT/f00589z/hypersc...   \n26  /dartfs-hpc/rc/lab/W/WheatleyT/f00589z/hypersc...   \n27  /dartfs-hpc/rc/lab/W/WheatleyT/f00589z/hypersc...   \n28  /dartfs-hpc/rc/lab/W/WheatleyT/f00589z/hypersc...   \n29  /dartfs-hpc/rc/lab/W/WheatleyT/f00589z/hypersc...   \n30  /dartfs-hpc/rc/lab/W/WheatleyT/f00589z/hypersc...   \n31  /dartfs-hpc/rc/lab/W/WheatleyT/f00589z/hypersc...   \n\n                                                lFile duration  \n0   /dartfs-hpc/rc/lab/W/WheatleyT/f00589z/hypersc...     2.13  \n1   /dartfs-hpc/rc/lab/W/WheatleyT/f00589z/hypersc...     2.12  \n2   /dartfs-hpc/rc/lab/W/WheatleyT/f00589z/hypersc...     2.17  \n3   /dartfs-hpc/rc/lab/W/WheatleyT/f00589z/hypersc...     2.13  \n4   /dartfs-hpc/rc/lab/W/WheatleyT/f00589z/hypersc...     2.12  \n5   /dartfs-hpc/rc/lab/W/WheatleyT/f00589z/hypersc...      2.1  \n6   /dartfs-hpc/rc/lab/W/WheatleyT/f00589z/hypersc...      2.1  \n7   /dartfs-hpc/rc/lab/W/WheatleyT/f00589z/hypersc...      2.1  \n8   /dartfs-hpc/rc/lab/W/WheatleyT/f00589z/hypersc...     2.11  \n9   /dartfs-hpc/rc/lab/W/WheatleyT/f00589z/hypersc...     2.13  \n10  /dartfs-hpc/rc/lab/W/WheatleyT/f00589z/hypersc...     2.16  \n11  /dartfs-hpc/rc/lab/W/WheatleyT/f00589z/hypersc...     2.12  \n12  /dartfs-hpc/rc/lab/W/WheatleyT/f00589z/hypersc...     2.13  \n13  /dartfs-hpc/rc/lab/W/WheatleyT/f00589z/hypersc...     2.13  \n14  /dartfs-hpc/rc/lab/W/WheatleyT/f00589z/hypersc...     2.13  \n15  /dartfs-hpc/rc/lab/W/WheatleyT/f00589z/hypersc...     2.11  \n16  /dartfs-hpc/rc/lab/W/WheatleyT/f00589z/hypersc...     2.15  \n17  /dartfs-hpc/rc/lab/W/WheatleyT/f00589z/hypersc...     2.14  \n18  /dartfs-hpc/rc/lab/W/WheatleyT/f00589z/hypersc...     2.17  \n19  /dartfs-hpc/rc/lab/W/WheatleyT/f00589z/hypersc...     2.15  \n20  /dartfs-hpc/rc/lab/W/WheatleyT/f00589z/hypersc...     2.17  \n21  /dartfs-hpc/rc/lab/W/WheatleyT/f00589z/hypersc...     2.24  \n22  /dartfs-hpc/rc/lab/W/WheatleyT/f00589z/hypersc...     2.31  \n23  /dartfs-hpc/rc/lab/W/WheatleyT/f00589z/hypersc...     2.28  \n24  /dartfs-hpc/rc/lab/W/WheatleyT/f00589z/hypersc...     2.29  \n25  /dartfs-hpc/rc/lab/W/WheatleyT/f00589z/hypersc...     2.28  \n26  /dartfs-hpc/rc/lab/W/WheatleyT/f00589z/hypersc...     2.32  \n27  /dartfs-hpc/rc/lab/W/WheatleyT/f00589z/hypersc...     2.29  \n28  /dartfs-hpc/rc/lab/W/WheatleyT/f00589z/hypersc...     2.25  \n29  /dartfs-hpc/rc/lab/W/WheatleyT/f00589z/hypersc...     2.29  \n30  /dartfs-hpc/rc/lab/W/WheatleyT/f00589z/hypersc...     2.26  \n31  /dartfs-hpc/rc/lab/W/WheatleyT/f00589z/hypersc...     2.26  ",
      "text/html": "<div>\n<style scoped>\n    .dataframe tbody tr th:only-of-type {\n        vertical-align: middle;\n    }\n\n    .dataframe tbody tr th {\n        vertical-align: top;\n    }\n\n    .dataframe thead th {\n        text-align: right;\n    }\n</style>\n<table border=\"1\" class=\"dataframe\">\n  <thead>\n    <tr style=\"text-align: right;\">\n      <th></th>\n      <th>dbicNum</th>\n      <th>dbicID</th>\n      <th>cbsNum</th>\n      <th>cbsID</th>\n      <th>pairType</th>\n      <th>condition</th>\n      <th>dbicSpeaker</th>\n      <th>sFile</th>\n      <th>lFile</th>\n      <th>duration</th>\n    </tr>\n  </thead>\n  <tbody>\n    <tr>\n      <th>0</th>\n      <td>2</td>\n      <td>sid000007</td>\n      <td>2</td>\n      <td>hid000002</td>\n      <td>1</td>\n      <td>0</td>\n      <td>0</td>\n      <td>/dartfs-hpc/rc/lab/W/WheatleyT/f00589z/hypersc...</td>\n      <td>/dartfs-hpc/rc/lab/W/WheatleyT/f00589z/hypersc...</td>\n      <td>2.13</td>\n    </tr>\n    <tr>\n      <th>1</th>\n      <td>2</td>\n      <td>sid000007</td>\n      <td>2</td>\n      <td>hid000002</td>\n      <td>1</td>\n      <td>0</td>\n      <td>1</td>\n      <td>/dartfs-hpc/rc/lab/W/WheatleyT/f00589z/hypersc...</td>\n      <td>/dartfs-hpc/rc/lab/W/WheatleyT/f00589z/hypersc...</td>\n      <td>2.12</td>\n    </tr>\n    <tr>\n      <th>2</th>\n      <td>2</td>\n      <td>sid000007</td>\n      <td>2</td>\n      <td>hid000002</td>\n      <td>1</td>\n      <td>1</td>\n      <td>0</td>\n      <td>/dartfs-hpc/rc/lab/W/WheatleyT/f00589z/hypersc...</td>\n      <td>/dartfs-hpc/rc/lab/W/WheatleyT/f00589z/hypersc...</td>\n      <td>2.17</td>\n    </tr>\n    <tr>\n      <th>3</th>\n      <td>2</td>\n      <td>sid000007</td>\n      <td>2</td>\n      <td>hid000002</td>\n      <td>1</td>\n      <td>1</td>\n      <td>1</td>\n      <td>/dartfs-hpc/rc/lab/W/WheatleyT/f00589z/hypersc...</td>\n      <td>/dartfs-hpc/rc/lab/W/WheatleyT/f00589z/hypersc...</td>\n      <td>2.13</td>\n    </tr>\n    <tr>\n      <th>4</th>\n      <td>3</td>\n      <td>sid000009</td>\n      <td>3</td>\n      <td>hid000003</td>\n      <td>1</td>\n      <td>0</td>\n      <td>0</td>\n      <td>/dartfs-hpc/rc/lab/W/WheatleyT/f00589z/hypersc...</td>\n      <td>/dartfs-hpc/rc/lab/W/WheatleyT/f00589z/hypersc...</td>\n      <td>2.12</td>\n    </tr>\n    <tr>\n      <th>5</th>\n      <td>3</td>\n      <td>sid000009</td>\n      <td>3</td>\n      <td>hid000003</td>\n      <td>1</td>\n      <td>0</td>\n      <td>1</td>\n      <td>/dartfs-hpc/rc/lab/W/WheatleyT/f00589z/hypersc...</td>\n      <td>/dartfs-hpc/rc/lab/W/WheatleyT/f00589z/hypersc...</td>\n      <td>2.1</td>\n    </tr>\n    <tr>\n      <th>6</th>\n      <td>3</td>\n      <td>sid000009</td>\n      <td>3</td>\n      <td>hid000003</td>\n      <td>1</td>\n      <td>1</td>\n      <td>0</td>\n      <td>/dartfs-hpc/rc/lab/W/WheatleyT/f00589z/hypersc...</td>\n      <td>/dartfs-hpc/rc/lab/W/WheatleyT/f00589z/hypersc...</td>\n      <td>2.1</td>\n    </tr>\n    <tr>\n      <th>7</th>\n      <td>3</td>\n      <td>sid000009</td>\n      <td>3</td>\n      <td>hid000003</td>\n      <td>1</td>\n      <td>1</td>\n      <td>1</td>\n      <td>/dartfs-hpc/rc/lab/W/WheatleyT/f00589z/hypersc...</td>\n      <td>/dartfs-hpc/rc/lab/W/WheatleyT/f00589z/hypersc...</td>\n      <td>2.1</td>\n    </tr>\n    <tr>\n      <th>8</th>\n      <td>4</td>\n      <td>sid000560</td>\n      <td>4</td>\n      <td>hid000004</td>\n      <td>1</td>\n      <td>0</td>\n      <td>0</td>\n      <td>/dartfs-hpc/rc/lab/W/WheatleyT/f00589z/hypersc...</td>\n      <td>/dartfs-hpc/rc/lab/W/WheatleyT/f00589z/hypersc...</td>\n      <td>2.11</td>\n    </tr>\n    <tr>\n      <th>9</th>\n      <td>4</td>\n      <td>sid000560</td>\n      <td>4</td>\n      <td>hid000004</td>\n      <td>1</td>\n      <td>0</td>\n      <td>1</td>\n      <td>/dartfs-hpc/rc/lab/W/WheatleyT/f00589z/hypersc...</td>\n      <td>/dartfs-hpc/rc/lab/W/WheatleyT/f00589z/hypersc...</td>\n      <td>2.13</td>\n    </tr>\n    <tr>\n      <th>10</th>\n      <td>4</td>\n      <td>sid000560</td>\n      <td>4</td>\n      <td>hid000004</td>\n      <td>1</td>\n      <td>1</td>\n      <td>0</td>\n      <td>/dartfs-hpc/rc/lab/W/WheatleyT/f00589z/hypersc...</td>\n      <td>/dartfs-hpc/rc/lab/W/WheatleyT/f00589z/hypersc...</td>\n      <td>2.16</td>\n    </tr>\n    <tr>\n      <th>11</th>\n      <td>4</td>\n      <td>sid000560</td>\n      <td>4</td>\n      <td>hid000004</td>\n      <td>1</td>\n      <td>1</td>\n      <td>1</td>\n      <td>/dartfs-hpc/rc/lab/W/WheatleyT/f00589z/hypersc...</td>\n      <td>/dartfs-hpc/rc/lab/W/WheatleyT/f00589z/hypersc...</td>\n      <td>2.12</td>\n    </tr>\n    <tr>\n      <th>12</th>\n      <td>5</td>\n      <td>sid000535</td>\n      <td>5</td>\n      <td>hid000005</td>\n      <td>1</td>\n      <td>0</td>\n      <td>0</td>\n      <td>/dartfs-hpc/rc/lab/W/WheatleyT/f00589z/hypersc...</td>\n      <td>/dartfs-hpc/rc/lab/W/WheatleyT/f00589z/hypersc...</td>\n      <td>2.13</td>\n    </tr>\n    <tr>\n      <th>13</th>\n      <td>5</td>\n      <td>sid000535</td>\n      <td>5</td>\n      <td>hid000005</td>\n      <td>1</td>\n      <td>0</td>\n      <td>1</td>\n      <td>/dartfs-hpc/rc/lab/W/WheatleyT/f00589z/hypersc...</td>\n      <td>/dartfs-hpc/rc/lab/W/WheatleyT/f00589z/hypersc...</td>\n      <td>2.13</td>\n    </tr>\n    <tr>\n      <th>14</th>\n      <td>5</td>\n      <td>sid000535</td>\n      <td>5</td>\n      <td>hid000005</td>\n      <td>1</td>\n      <td>1</td>\n      <td>0</td>\n      <td>/dartfs-hpc/rc/lab/W/WheatleyT/f00589z/hypersc...</td>\n      <td>/dartfs-hpc/rc/lab/W/WheatleyT/f00589z/hypersc...</td>\n      <td>2.13</td>\n    </tr>\n    <tr>\n      <th>15</th>\n      <td>5</td>\n      <td>sid000535</td>\n      <td>5</td>\n      <td>hid000005</td>\n      <td>1</td>\n      <td>1</td>\n      <td>1</td>\n      <td>/dartfs-hpc/rc/lab/W/WheatleyT/f00589z/hypersc...</td>\n      <td>/dartfs-hpc/rc/lab/W/WheatleyT/f00589z/hypersc...</td>\n      <td>2.11</td>\n    </tr>\n    <tr>\n      <th>16</th>\n      <td>6</td>\n      <td>sid000102</td>\n      <td>6</td>\n      <td>hid000006</td>\n      <td>1</td>\n      <td>0</td>\n      <td>0</td>\n      <td>/dartfs-hpc/rc/lab/W/WheatleyT/f00589z/hypersc...</td>\n      <td>/dartfs-hpc/rc/lab/W/WheatleyT/f00589z/hypersc...</td>\n      <td>2.15</td>\n    </tr>\n    <tr>\n      <th>17</th>\n      <td>6</td>\n      <td>sid000102</td>\n      <td>6</td>\n      <td>hid000006</td>\n      <td>1</td>\n      <td>0</td>\n      <td>1</td>\n      <td>/dartfs-hpc/rc/lab/W/WheatleyT/f00589z/hypersc...</td>\n      <td>/dartfs-hpc/rc/lab/W/WheatleyT/f00589z/hypersc...</td>\n      <td>2.14</td>\n    </tr>\n    <tr>\n      <th>18</th>\n      <td>6</td>\n      <td>sid000102</td>\n      <td>6</td>\n      <td>hid000006</td>\n      <td>1</td>\n      <td>1</td>\n      <td>0</td>\n      <td>/dartfs-hpc/rc/lab/W/WheatleyT/f00589z/hypersc...</td>\n      <td>/dartfs-hpc/rc/lab/W/WheatleyT/f00589z/hypersc...</td>\n      <td>2.17</td>\n    </tr>\n    <tr>\n      <th>19</th>\n      <td>6</td>\n      <td>sid000102</td>\n      <td>6</td>\n      <td>hid000006</td>\n      <td>1</td>\n      <td>1</td>\n      <td>1</td>\n      <td>/dartfs-hpc/rc/lab/W/WheatleyT/f00589z/hypersc...</td>\n      <td>/dartfs-hpc/rc/lab/W/WheatleyT/f00589z/hypersc...</td>\n      <td>2.15</td>\n    </tr>\n    <tr>\n      <th>20</th>\n      <td>7</td>\n      <td>sid000416</td>\n      <td>7</td>\n      <td>hid000007</td>\n      <td>1</td>\n      <td>0</td>\n      <td>0</td>\n      <td>/dartfs-hpc/rc/lab/W/WheatleyT/f00589z/hypersc...</td>\n      <td>/dartfs-hpc/rc/lab/W/WheatleyT/f00589z/hypersc...</td>\n      <td>2.17</td>\n    </tr>\n    <tr>\n      <th>21</th>\n      <td>7</td>\n      <td>sid000416</td>\n      <td>7</td>\n      <td>hid000007</td>\n      <td>1</td>\n      <td>0</td>\n      <td>1</td>\n      <td>/dartfs-hpc/rc/lab/W/WheatleyT/f00589z/hypersc...</td>\n      <td>/dartfs-hpc/rc/lab/W/WheatleyT/f00589z/hypersc...</td>\n      <td>2.24</td>\n    </tr>\n    <tr>\n      <th>22</th>\n      <td>7</td>\n      <td>sid000416</td>\n      <td>7</td>\n      <td>hid000007</td>\n      <td>1</td>\n      <td>1</td>\n      <td>0</td>\n      <td>/dartfs-hpc/rc/lab/W/WheatleyT/f00589z/hypersc...</td>\n      <td>/dartfs-hpc/rc/lab/W/WheatleyT/f00589z/hypersc...</td>\n      <td>2.31</td>\n    </tr>\n    <tr>\n      <th>23</th>\n      <td>7</td>\n      <td>sid000416</td>\n      <td>7</td>\n      <td>hid000007</td>\n      <td>1</td>\n      <td>1</td>\n      <td>1</td>\n      <td>/dartfs-hpc/rc/lab/W/WheatleyT/f00589z/hypersc...</td>\n      <td>/dartfs-hpc/rc/lab/W/WheatleyT/f00589z/hypersc...</td>\n      <td>2.28</td>\n    </tr>\n    <tr>\n      <th>24</th>\n      <td>8</td>\n      <td>sid000499</td>\n      <td>8</td>\n      <td>hid000008</td>\n      <td>1</td>\n      <td>0</td>\n      <td>0</td>\n      <td>/dartfs-hpc/rc/lab/W/WheatleyT/f00589z/hypersc...</td>\n      <td>/dartfs-hpc/rc/lab/W/WheatleyT/f00589z/hypersc...</td>\n      <td>2.29</td>\n    </tr>\n    <tr>\n      <th>25</th>\n      <td>8</td>\n      <td>sid000499</td>\n      <td>8</td>\n      <td>hid000008</td>\n      <td>1</td>\n      <td>0</td>\n      <td>1</td>\n      <td>/dartfs-hpc/rc/lab/W/WheatleyT/f00589z/hypersc...</td>\n      <td>/dartfs-hpc/rc/lab/W/WheatleyT/f00589z/hypersc...</td>\n      <td>2.28</td>\n    </tr>\n    <tr>\n      <th>26</th>\n      <td>8</td>\n      <td>sid000499</td>\n      <td>8</td>\n      <td>hid000008</td>\n      <td>1</td>\n      <td>1</td>\n      <td>0</td>\n      <td>/dartfs-hpc/rc/lab/W/WheatleyT/f00589z/hypersc...</td>\n      <td>/dartfs-hpc/rc/lab/W/WheatleyT/f00589z/hypersc...</td>\n      <td>2.32</td>\n    </tr>\n    <tr>\n      <th>27</th>\n      <td>8</td>\n      <td>sid000499</td>\n      <td>8</td>\n      <td>hid000008</td>\n      <td>1</td>\n      <td>1</td>\n      <td>1</td>\n      <td>/dartfs-hpc/rc/lab/W/WheatleyT/f00589z/hypersc...</td>\n      <td>/dartfs-hpc/rc/lab/W/WheatleyT/f00589z/hypersc...</td>\n      <td>2.29</td>\n    </tr>\n    <tr>\n      <th>28</th>\n      <td>9</td>\n      <td>sid000142</td>\n      <td>9</td>\n      <td>hid000009</td>\n      <td>1</td>\n      <td>0</td>\n      <td>0</td>\n      <td>/dartfs-hpc/rc/lab/W/WheatleyT/f00589z/hypersc...</td>\n      <td>/dartfs-hpc/rc/lab/W/WheatleyT/f00589z/hypersc...</td>\n      <td>2.25</td>\n    </tr>\n    <tr>\n      <th>29</th>\n      <td>9</td>\n      <td>sid000142</td>\n      <td>9</td>\n      <td>hid000009</td>\n      <td>1</td>\n      <td>0</td>\n      <td>1</td>\n      <td>/dartfs-hpc/rc/lab/W/WheatleyT/f00589z/hypersc...</td>\n      <td>/dartfs-hpc/rc/lab/W/WheatleyT/f00589z/hypersc...</td>\n      <td>2.29</td>\n    </tr>\n    <tr>\n      <th>30</th>\n      <td>9</td>\n      <td>sid000142</td>\n      <td>9</td>\n      <td>hid000009</td>\n      <td>1</td>\n      <td>1</td>\n      <td>0</td>\n      <td>/dartfs-hpc/rc/lab/W/WheatleyT/f00589z/hypersc...</td>\n      <td>/dartfs-hpc/rc/lab/W/WheatleyT/f00589z/hypersc...</td>\n      <td>2.26</td>\n    </tr>\n    <tr>\n      <th>31</th>\n      <td>9</td>\n      <td>sid000142</td>\n      <td>9</td>\n      <td>hid000009</td>\n      <td>1</td>\n      <td>1</td>\n      <td>1</td>\n      <td>/dartfs-hpc/rc/lab/W/WheatleyT/f00589z/hypersc...</td>\n      <td>/dartfs-hpc/rc/lab/W/WheatleyT/f00589z/hypersc...</td>\n      <td>2.26</td>\n    </tr>\n  </tbody>\n</table>\n</div>"
     },
     "execution_count": 12,
     "metadata": {},
     "output_type": "execute_result"
    }
   ],
   "source": [
    "pairMap"
   ],
   "metadata": {
    "collapsed": false,
    "pycharm": {
     "name": "#%%\n"
    }
   }
  },
  {
   "cell_type": "code",
   "execution_count": 5,
   "outputs": [],
   "source": [
    "condInds = [[]] * 2\n",
    "for COND in [0,1]:\n",
    "    condInds[COND] = np.where(pairMap['condition'] == COND)[0]"
   ],
   "metadata": {
    "collapsed": false,
    "pycharm": {
     "name": "#%% get condition indices\n"
    }
   }
  },
  {
   "cell_type": "code",
   "execution_count": 7,
   "outputs": [],
   "source": [
    "# preallocate data frame\n",
    "fileList = pd.DataFrame(index=np.arange(int(pairMap.shape[0]*2)), columns=['subID','site','condition','speaker','file'])\n",
    "\n",
    "site = ['DBIC','CBS']\n",
    "siteID = ['dbicID','cbsID']\n",
    "fileType = ['lFile','sFile']"
   ],
   "metadata": {
    "collapsed": false,
    "pycharm": {
     "name": "#%% reformat pairMap\n"
    }
   }
  },
  {
   "cell_type": "code",
   "execution_count": 8,
   "outputs": [],
   "source": [
    "# fill in fileList\n",
    "fROW = 0\n",
    "for SITE in [0,1]: # dbic, cbs\n",
    "    for pROW in range(pairMap.shape[0]): # for each row of pairMap...\n",
    "\n",
    "        fileList['subID'][fROW] = pairMap[siteID[SITE]][pROW]\n",
    "        fileList['site'][fROW] = site[SITE]\n",
    "        fileList['condition'][fROW] = pairMap['condition'][pROW]\n",
    "        if SITE == pairMap['dbicSpeaker'][pROW]:\n",
    "           fileList['speaker'][fROW] = 0\n",
    "        else:\n",
    "           fileList['speaker'][fROW] = 1\n",
    "        fileList['file'][fROW] = pairMap[fileType[fileList['speaker'][fROW] == 1]][pROW]\n",
    "\n",
    "        # increment fileList row counter\n",
    "        fROW += 1"
   ],
   "metadata": {
    "collapsed": false,
    "pycharm": {
     "name": "#%%\n"
    }
   }
  },
  {
   "cell_type": "code",
   "execution_count": 9,
   "outputs": [],
   "source": [
    "resampledMaskFile = '/dartfs-hpc/rc/lab/W/WheatleyT/f00589z/hyperscanning/misc/mni_icbm152_nlin_asym_09c/mni_icbm152_t1_tal_nlin_asym_09c_mask_RESAMPLED.nii'"
   ],
   "metadata": {
    "collapsed": false,
    "pycharm": {
     "name": "#%% set path to mask\n"
    }
   }
  },
  {
   "cell_type": "code",
   "execution_count": 15,
   "outputs": [
    {
     "data": {
      "text/plain": "'/dartfs-hpc/rc/lab/W/WheatleyT/f00589z/hyperscanning/storytelling/parseEPI_output_files/sub-sid000007_ses-pair02_task-storytelling2_run-02_bold_space-MNI152NLin2009cAsym_preproc_nuisRegr_newMask_listener.mat'"
     },
     "execution_count": 15,
     "metadata": {},
     "output_type": "execute_result"
    }
   ],
   "source": [
    "for ROW in range(fileList.shape[0]):\n",
    "    fileList['file'][ROW] = fileList['file'][ROW].replace('2021','newMask')\n",
    "\n",
    "fileList"
   ],
   "metadata": {
    "collapsed": false,
    "pycharm": {
     "name": "#%% rename the files in fileList so that youre loading .mat files generated with the updated mask\n"
    }
   }
  },
  {
   "cell_type": "code",
   "execution_count": null,
   "outputs": [
    {
     "name": "stdout",
     "output_type": "stream",
     "text": [
      "loading /dartfs-hpc/rc/lab/W/WheatleyT/f00589z/hyperscanning/storytelling/parseEPI_output_files/sub-sid000007_ses-pair02_task-storytelling2_run-02_bold_space-MNI152NLin2009cAsym_preproc_nuisRegr_newMask_speaker.mat...\n",
      "loading /dartfs-hpc/rc/lab/W/WheatleyT/f00589z/hyperscanning/storytelling/parseEPI_output_files/sub-sid000007_ses-pair02_task-storytelling2_run-02_bold_space-MNI152NLin2009cAsym_preproc_nuisRegr_newMask_listener.mat...\n",
      "saving file 1 of 32 to: \n",
      "/dartfs-hpc/rc/lab/W/WheatleyT/f00589z/hyperscanning/preprocessing/hyperalignment/input_nifti_files/sub-sid000007_ses-pair02_task-storytelling2_run-02_bold_space-MNI152NLin2009cAsym_preproc_nuisRegr_newMask_interp_uncut_ind.nii.gz\n",
      "loading /dartfs-hpc/rc/lab/W/WheatleyT/f00589z/hyperscanning/storytelling/parseEPI_output_files/sub-sid000007_ses-pair02_task-storytelling1_run-01_bold_space-MNI152NLin2009cAsym_preproc_nuisRegr_newMask_speaker.mat...\n",
      "loading /dartfs-hpc/rc/lab/W/WheatleyT/f00589z/hyperscanning/storytelling/parseEPI_output_files/sub-sid000007_ses-pair02_task-storytelling1_run-01_bold_space-MNI152NLin2009cAsym_preproc_nuisRegr_newMask_listener.mat...\n",
      "saving file 2 of 32 to: \n",
      "/dartfs-hpc/rc/lab/W/WheatleyT/f00589z/hyperscanning/preprocessing/hyperalignment/input_nifti_files/sub-sid000007_ses-pair02_task-storytelling1_run-01_bold_space-MNI152NLin2009cAsym_preproc_nuisRegr_newMask_interp_uncut_joint.nii.gz\n",
      "loading /dartfs-hpc/rc/lab/W/WheatleyT/f00589z/hyperscanning/storytelling/parseEPI_output_files/sub-sid000009_ses-pair03_task-storytelling2_run-02_bold_space-MNI152NLin2009cAsym_preproc_nuisRegr_newMask_speaker.mat...\n",
      "loading /dartfs-hpc/rc/lab/W/WheatleyT/f00589z/hyperscanning/storytelling/parseEPI_output_files/sub-sid000009_ses-pair03_task-storytelling2_run-02_bold_space-MNI152NLin2009cAsym_preproc_nuisRegr_newMask_listener.mat...\n",
      "saving file 3 of 32 to: \n",
      "/dartfs-hpc/rc/lab/W/WheatleyT/f00589z/hyperscanning/preprocessing/hyperalignment/input_nifti_files/sub-sid000009_ses-pair03_task-storytelling2_run-02_bold_space-MNI152NLin2009cAsym_preproc_nuisRegr_newMask_interp_uncut_ind.nii.gz\n",
      "loading /dartfs-hpc/rc/lab/W/WheatleyT/f00589z/hyperscanning/storytelling/parseEPI_output_files/sub-sid000009_ses-pair03_task-storytelling1_run-01_bold_space-MNI152NLin2009cAsym_preproc_nuisRegr_newMask_speaker.mat...\n",
      "loading /dartfs-hpc/rc/lab/W/WheatleyT/f00589z/hyperscanning/storytelling/parseEPI_output_files/sub-sid000009_ses-pair03_task-storytelling1_run-01_bold_space-MNI152NLin2009cAsym_preproc_nuisRegr_newMask_listener.mat...\n",
      "saving file 4 of 32 to: \n",
      "/dartfs-hpc/rc/lab/W/WheatleyT/f00589z/hyperscanning/preprocessing/hyperalignment/input_nifti_files/sub-sid000009_ses-pair03_task-storytelling1_run-01_bold_space-MNI152NLin2009cAsym_preproc_nuisRegr_newMask_interp_uncut_joint.nii.gz\n",
      "loading /dartfs-hpc/rc/lab/W/WheatleyT/f00589z/hyperscanning/storytelling/parseEPI_output_files/sub-sid000560_ses-pair04_task-storytelling1_run-01_bold_space-MNI152NLin2009cAsym_preproc_nuisRegr_newMask_speaker.mat...\n",
      "loading /dartfs-hpc/rc/lab/W/WheatleyT/f00589z/hyperscanning/storytelling/parseEPI_output_files/sub-sid000560_ses-pair04_task-storytelling1_run-01_bold_space-MNI152NLin2009cAsym_preproc_nuisRegr_newMask_listener.mat...\n",
      "saving file 5 of 32 to: \n",
      "/dartfs-hpc/rc/lab/W/WheatleyT/f00589z/hyperscanning/preprocessing/hyperalignment/input_nifti_files/sub-sid000560_ses-pair04_task-storytelling1_run-01_bold_space-MNI152NLin2009cAsym_preproc_nuisRegr_newMask_interp_uncut_ind.nii.gz\n",
      "loading /dartfs-hpc/rc/lab/W/WheatleyT/f00589z/hyperscanning/storytelling/parseEPI_output_files/sub-sid000560_ses-pair04_task-storytelling2_run-02_bold_space-MNI152NLin2009cAsym_preproc_nuisRegr_newMask_speaker.mat...\n",
      "loading /dartfs-hpc/rc/lab/W/WheatleyT/f00589z/hyperscanning/storytelling/parseEPI_output_files/sub-sid000560_ses-pair04_task-storytelling2_run-02_bold_space-MNI152NLin2009cAsym_preproc_nuisRegr_newMask_listener.mat...\n",
      "saving file 6 of 32 to: \n",
      "/dartfs-hpc/rc/lab/W/WheatleyT/f00589z/hyperscanning/preprocessing/hyperalignment/input_nifti_files/sub-sid000560_ses-pair04_task-storytelling2_run-02_bold_space-MNI152NLin2009cAsym_preproc_nuisRegr_newMask_interp_uncut_joint.nii.gz\n",
      "loading /dartfs-hpc/rc/lab/W/WheatleyT/f00589z/hyperscanning/storytelling/parseEPI_output_files/sub-sid000535_ses-pair05_task-storytelling1_run-01_bold_space-MNI152NLin2009cAsym_preproc_nuisRegr_newMask_speaker.mat...\n",
      "loading /dartfs-hpc/rc/lab/W/WheatleyT/f00589z/hyperscanning/storytelling/parseEPI_output_files/sub-sid000535_ses-pair05_task-storytelling1_run-01_bold_space-MNI152NLin2009cAsym_preproc_nuisRegr_newMask_listener.mat...\n",
      "saving file 7 of 32 to: \n",
      "/dartfs-hpc/rc/lab/W/WheatleyT/f00589z/hyperscanning/preprocessing/hyperalignment/input_nifti_files/sub-sid000535_ses-pair05_task-storytelling1_run-01_bold_space-MNI152NLin2009cAsym_preproc_nuisRegr_newMask_interp_uncut_ind.nii.gz\n",
      "loading /dartfs-hpc/rc/lab/W/WheatleyT/f00589z/hyperscanning/storytelling/parseEPI_output_files/sub-sid000535_ses-pair05_task-storytelling2_run-02_bold_space-MNI152NLin2009cAsym_preproc_nuisRegr_newMask_speaker.mat...\n",
      "loading /dartfs-hpc/rc/lab/W/WheatleyT/f00589z/hyperscanning/storytelling/parseEPI_output_files/sub-sid000535_ses-pair05_task-storytelling2_run-02_bold_space-MNI152NLin2009cAsym_preproc_nuisRegr_newMask_listener.mat...\n",
      "saving file 8 of 32 to: \n",
      "/dartfs-hpc/rc/lab/W/WheatleyT/f00589z/hyperscanning/preprocessing/hyperalignment/input_nifti_files/sub-sid000535_ses-pair05_task-storytelling2_run-02_bold_space-MNI152NLin2009cAsym_preproc_nuisRegr_newMask_interp_uncut_joint.nii.gz\n",
      "loading /dartfs-hpc/rc/lab/W/WheatleyT/f00589z/hyperscanning/storytelling/parseEPI_output_files/sub-sid000102_ses-pair06_task-storytelling2_run-02_bold_space-MNI152NLin2009cAsym_preproc_nuisRegr_newMask_speaker.mat...\n",
      "loading /dartfs-hpc/rc/lab/W/WheatleyT/f00589z/hyperscanning/storytelling/parseEPI_output_files/sub-sid000102_ses-pair06_task-storytelling2_run-02_bold_space-MNI152NLin2009cAsym_preproc_nuisRegr_newMask_listener.mat...\n",
      "saving file 9 of 32 to: \n",
      "/dartfs-hpc/rc/lab/W/WheatleyT/f00589z/hyperscanning/preprocessing/hyperalignment/input_nifti_files/sub-sid000102_ses-pair06_task-storytelling2_run-02_bold_space-MNI152NLin2009cAsym_preproc_nuisRegr_newMask_interp_uncut_ind.nii.gz\n",
      "loading /dartfs-hpc/rc/lab/W/WheatleyT/f00589z/hyperscanning/storytelling/parseEPI_output_files/sub-sid000102_ses-pair06_task-storytelling1_run-01_bold_space-MNI152NLin2009cAsym_preproc_nuisRegr_newMask_speaker.mat...\n",
      "loading /dartfs-hpc/rc/lab/W/WheatleyT/f00589z/hyperscanning/storytelling/parseEPI_output_files/sub-sid000102_ses-pair06_task-storytelling1_run-01_bold_space-MNI152NLin2009cAsym_preproc_nuisRegr_newMask_listener.mat...\n",
      "saving file 10 of 32 to: \n",
      "/dartfs-hpc/rc/lab/W/WheatleyT/f00589z/hyperscanning/preprocessing/hyperalignment/input_nifti_files/sub-sid000102_ses-pair06_task-storytelling1_run-01_bold_space-MNI152NLin2009cAsym_preproc_nuisRegr_newMask_interp_uncut_joint.nii.gz\n",
      "loading /dartfs-hpc/rc/lab/W/WheatleyT/f00589z/hyperscanning/storytelling/parseEPI_output_files/sub-sid000416_ses-pair07_task-storytelling2_run-02_bold_space-MNI152NLin2009cAsym_preproc_nuisRegr_newMask_speaker.mat...\n",
      "loading /dartfs-hpc/rc/lab/W/WheatleyT/f00589z/hyperscanning/storytelling/parseEPI_output_files/sub-sid000416_ses-pair07_task-storytelling2_run-02_bold_space-MNI152NLin2009cAsym_preproc_nuisRegr_newMask_listener.mat...\n",
      "saving file 11 of 32 to: \n",
      "/dartfs-hpc/rc/lab/W/WheatleyT/f00589z/hyperscanning/preprocessing/hyperalignment/input_nifti_files/sub-sid000416_ses-pair07_task-storytelling2_run-02_bold_space-MNI152NLin2009cAsym_preproc_nuisRegr_newMask_interp_uncut_ind.nii.gz\n",
      "loading /dartfs-hpc/rc/lab/W/WheatleyT/f00589z/hyperscanning/storytelling/parseEPI_output_files/sub-sid000416_ses-pair07_task-storytelling1_run-01_bold_space-MNI152NLin2009cAsym_preproc_nuisRegr_newMask_speaker.mat...\n",
      "loading /dartfs-hpc/rc/lab/W/WheatleyT/f00589z/hyperscanning/storytelling/parseEPI_output_files/sub-sid000416_ses-pair07_task-storytelling1_run-01_bold_space-MNI152NLin2009cAsym_preproc_nuisRegr_newMask_listener.mat...\n",
      "saving file 12 of 32 to: \n",
      "/dartfs-hpc/rc/lab/W/WheatleyT/f00589z/hyperscanning/preprocessing/hyperalignment/input_nifti_files/sub-sid000416_ses-pair07_task-storytelling1_run-01_bold_space-MNI152NLin2009cAsym_preproc_nuisRegr_newMask_interp_uncut_joint.nii.gz\n",
      "loading /dartfs-hpc/rc/lab/W/WheatleyT/f00589z/hyperscanning/storytelling/parseEPI_output_files/sub-sid000499_ses-pair08_task-storytelling1_run-01_bold_space-MNI152NLin2009cAsym_preproc_nuisRegr_newMask_speaker.mat...\n",
      "loading /dartfs-hpc/rc/lab/W/WheatleyT/f00589z/hyperscanning/storytelling/parseEPI_output_files/sub-sid000499_ses-pair08_task-storytelling1_run-01_bold_space-MNI152NLin2009cAsym_preproc_nuisRegr_newMask_listener.mat...\n",
      "saving file 13 of 32 to: \n",
      "/dartfs-hpc/rc/lab/W/WheatleyT/f00589z/hyperscanning/preprocessing/hyperalignment/input_nifti_files/sub-sid000499_ses-pair08_task-storytelling1_run-01_bold_space-MNI152NLin2009cAsym_preproc_nuisRegr_newMask_interp_uncut_ind.nii.gz\n",
      "loading /dartfs-hpc/rc/lab/W/WheatleyT/f00589z/hyperscanning/storytelling/parseEPI_output_files/sub-sid000499_ses-pair08_task-storytelling2_run-02_bold_space-MNI152NLin2009cAsym_preproc_nuisRegr_newMask_speaker.mat...\n",
      "loading /dartfs-hpc/rc/lab/W/WheatleyT/f00589z/hyperscanning/storytelling/parseEPI_output_files/sub-sid000499_ses-pair08_task-storytelling2_run-02_bold_space-MNI152NLin2009cAsym_preproc_nuisRegr_newMask_listener.mat...\n",
      "saving file 14 of 32 to: \n",
      "/dartfs-hpc/rc/lab/W/WheatleyT/f00589z/hyperscanning/preprocessing/hyperalignment/input_nifti_files/sub-sid000499_ses-pair08_task-storytelling2_run-02_bold_space-MNI152NLin2009cAsym_preproc_nuisRegr_newMask_interp_uncut_joint.nii.gz\n",
      "loading /dartfs-hpc/rc/lab/W/WheatleyT/f00589z/hyperscanning/storytelling/parseEPI_output_files/sub-sid000142_ses-pair09_task-storytelling1_run-01_bold_space-MNI152NLin2009cAsym_preproc_nuisRegr_newMask_speaker.mat...\n",
      "loading /dartfs-hpc/rc/lab/W/WheatleyT/f00589z/hyperscanning/storytelling/parseEPI_output_files/sub-sid000142_ses-pair09_task-storytelling1_run-01_bold_space-MNI152NLin2009cAsym_preproc_nuisRegr_newMask_listener.mat...\n",
      "saving file 15 of 32 to: \n",
      "/dartfs-hpc/rc/lab/W/WheatleyT/f00589z/hyperscanning/preprocessing/hyperalignment/input_nifti_files/sub-sid000142_ses-pair09_task-storytelling1_run-01_bold_space-MNI152NLin2009cAsym_preproc_nuisRegr_newMask_interp_uncut_ind.nii.gz\n",
      "loading /dartfs-hpc/rc/lab/W/WheatleyT/f00589z/hyperscanning/storytelling/parseEPI_output_files/sub-sid000142_ses-pair09_task-storytelling2_run-02_bold_space-MNI152NLin2009cAsym_preproc_nuisRegr_newMask_speaker.mat...\n",
      "loading /dartfs-hpc/rc/lab/W/WheatleyT/f00589z/hyperscanning/storytelling/parseEPI_output_files/sub-sid000142_ses-pair09_task-storytelling2_run-02_bold_space-MNI152NLin2009cAsym_preproc_nuisRegr_newMask_listener.mat...\n",
      "saving file 16 of 32 to: \n",
      "/dartfs-hpc/rc/lab/W/WheatleyT/f00589z/hyperscanning/preprocessing/hyperalignment/input_nifti_files/sub-sid000142_ses-pair09_task-storytelling2_run-02_bold_space-MNI152NLin2009cAsym_preproc_nuisRegr_newMask_interp_uncut_joint.nii.gz\n",
      "loading /dartfs-hpc/rc/lab/W/WheatleyT/f00589z/hyperscanning/storytelling/parseEPI_output_files/sub-hid000002_ses-pair02_task-storytelling2_run-02_bold_space-MNI152NLin2009cAsym_preproc_nuisRegr_newMask_speaker.mat...\n",
      "loading /dartfs-hpc/rc/lab/W/WheatleyT/f00589z/hyperscanning/storytelling/parseEPI_output_files/sub-hid000002_ses-pair02_task-storytelling2_run-02_bold_space-MNI152NLin2009cAsym_preproc_nuisRegr_newMask_listener.mat...\n",
      "saving file 17 of 32 to: \n",
      "/dartfs-hpc/rc/lab/W/WheatleyT/f00589z/hyperscanning/preprocessing/hyperalignment/input_nifti_files/sub-hid000002_ses-pair02_task-storytelling2_run-02_bold_space-MNI152NLin2009cAsym_preproc_nuisRegr_newMask_interp_uncut_ind.nii.gz\n",
      "loading /dartfs-hpc/rc/lab/W/WheatleyT/f00589z/hyperscanning/storytelling/parseEPI_output_files/sub-hid000002_ses-pair02_task-storytelling1_run-01_bold_space-MNI152NLin2009cAsym_preproc_nuisRegr_newMask_speaker.mat...\n",
      "loading /dartfs-hpc/rc/lab/W/WheatleyT/f00589z/hyperscanning/storytelling/parseEPI_output_files/sub-hid000002_ses-pair02_task-storytelling1_run-01_bold_space-MNI152NLin2009cAsym_preproc_nuisRegr_newMask_listener.mat...\n",
      "saving file 18 of 32 to: \n",
      "/dartfs-hpc/rc/lab/W/WheatleyT/f00589z/hyperscanning/preprocessing/hyperalignment/input_nifti_files/sub-hid000002_ses-pair02_task-storytelling1_run-01_bold_space-MNI152NLin2009cAsym_preproc_nuisRegr_newMask_interp_uncut_joint.nii.gz\n",
      "loading /dartfs-hpc/rc/lab/W/WheatleyT/f00589z/hyperscanning/storytelling/parseEPI_output_files/sub-hid000003_ses-pair03_task-storytelling2_run-02_bold_space-MNI152NLin2009cAsym_preproc_nuisRegr_newMask_speaker.mat...\n",
      "loading /dartfs-hpc/rc/lab/W/WheatleyT/f00589z/hyperscanning/storytelling/parseEPI_output_files/sub-hid000003_ses-pair03_task-storytelling2_run-02_bold_space-MNI152NLin2009cAsym_preproc_nuisRegr_newMask_listener.mat...\n",
      "saving file 19 of 32 to: \n",
      "/dartfs-hpc/rc/lab/W/WheatleyT/f00589z/hyperscanning/preprocessing/hyperalignment/input_nifti_files/sub-hid000003_ses-pair03_task-storytelling2_run-02_bold_space-MNI152NLin2009cAsym_preproc_nuisRegr_newMask_interp_uncut_ind.nii.gz\n",
      "loading /dartfs-hpc/rc/lab/W/WheatleyT/f00589z/hyperscanning/storytelling/parseEPI_output_files/sub-hid000003_ses-pair03_task-storytelling1_run-01_bold_space-MNI152NLin2009cAsym_preproc_nuisRegr_newMask_speaker.mat...\n",
      "loading /dartfs-hpc/rc/lab/W/WheatleyT/f00589z/hyperscanning/storytelling/parseEPI_output_files/sub-hid000003_ses-pair03_task-storytelling1_run-01_bold_space-MNI152NLin2009cAsym_preproc_nuisRegr_newMask_listener.mat...\n",
      "saving file 20 of 32 to: \n",
      "/dartfs-hpc/rc/lab/W/WheatleyT/f00589z/hyperscanning/preprocessing/hyperalignment/input_nifti_files/sub-hid000003_ses-pair03_task-storytelling1_run-01_bold_space-MNI152NLin2009cAsym_preproc_nuisRegr_newMask_interp_uncut_joint.nii.gz\n",
      "loading /dartfs-hpc/rc/lab/W/WheatleyT/f00589z/hyperscanning/storytelling/parseEPI_output_files/sub-hid000004_ses-pair04_task-storytelling1_run-01_bold_space-MNI152NLin2009cAsym_preproc_nuisRegr_newMask_speaker.mat...\n",
      "loading /dartfs-hpc/rc/lab/W/WheatleyT/f00589z/hyperscanning/storytelling/parseEPI_output_files/sub-hid000004_ses-pair04_task-storytelling1_run-01_bold_space-MNI152NLin2009cAsym_preproc_nuisRegr_newMask_listener.mat...\n",
      "saving file 21 of 32 to: \n",
      "/dartfs-hpc/rc/lab/W/WheatleyT/f00589z/hyperscanning/preprocessing/hyperalignment/input_nifti_files/sub-hid000004_ses-pair04_task-storytelling1_run-01_bold_space-MNI152NLin2009cAsym_preproc_nuisRegr_newMask_interp_uncut_ind.nii.gz\n",
      "loading /dartfs-hpc/rc/lab/W/WheatleyT/f00589z/hyperscanning/storytelling/parseEPI_output_files/sub-hid000004_ses-pair04_task-storytelling2_run-02_bold_space-MNI152NLin2009cAsym_preproc_nuisRegr_newMask_speaker.mat...\n",
      "loading /dartfs-hpc/rc/lab/W/WheatleyT/f00589z/hyperscanning/storytelling/parseEPI_output_files/sub-hid000004_ses-pair04_task-storytelling2_run-02_bold_space-MNI152NLin2009cAsym_preproc_nuisRegr_newMask_listener.mat...\n",
      "saving file 22 of 32 to: \n",
      "/dartfs-hpc/rc/lab/W/WheatleyT/f00589z/hyperscanning/preprocessing/hyperalignment/input_nifti_files/sub-hid000004_ses-pair04_task-storytelling2_run-02_bold_space-MNI152NLin2009cAsym_preproc_nuisRegr_newMask_interp_uncut_joint.nii.gz\n",
      "loading /dartfs-hpc/rc/lab/W/WheatleyT/f00589z/hyperscanning/storytelling/parseEPI_output_files/sub-hid000005_ses-pair05_task-storytelling1_run-01_bold_space-MNI152NLin2009cAsym_preproc_nuisRegr_newMask_speaker.mat...\n",
      "loading /dartfs-hpc/rc/lab/W/WheatleyT/f00589z/hyperscanning/storytelling/parseEPI_output_files/sub-hid000005_ses-pair05_task-storytelling1_run-01_bold_space-MNI152NLin2009cAsym_preproc_nuisRegr_newMask_listener.mat...\n",
      "saving file 23 of 32 to: \n",
      "/dartfs-hpc/rc/lab/W/WheatleyT/f00589z/hyperscanning/preprocessing/hyperalignment/input_nifti_files/sub-hid000005_ses-pair05_task-storytelling1_run-01_bold_space-MNI152NLin2009cAsym_preproc_nuisRegr_newMask_interp_uncut_ind.nii.gz\n",
      "loading /dartfs-hpc/rc/lab/W/WheatleyT/f00589z/hyperscanning/storytelling/parseEPI_output_files/sub-hid000005_ses-pair05_task-storytelling2_run-02_bold_space-MNI152NLin2009cAsym_preproc_nuisRegr_newMask_speaker.mat...\n",
      "loading /dartfs-hpc/rc/lab/W/WheatleyT/f00589z/hyperscanning/storytelling/parseEPI_output_files/sub-hid000005_ses-pair05_task-storytelling2_run-02_bold_space-MNI152NLin2009cAsym_preproc_nuisRegr_newMask_listener.mat...\n",
      "saving file 24 of 32 to: \n",
      "/dartfs-hpc/rc/lab/W/WheatleyT/f00589z/hyperscanning/preprocessing/hyperalignment/input_nifti_files/sub-hid000005_ses-pair05_task-storytelling2_run-02_bold_space-MNI152NLin2009cAsym_preproc_nuisRegr_newMask_interp_uncut_joint.nii.gz\n",
      "loading /dartfs-hpc/rc/lab/W/WheatleyT/f00589z/hyperscanning/storytelling/parseEPI_output_files/sub-hid000006_ses-pair06_task-storytelling2_run-02_bold_space-MNI152NLin2009cAsym_preproc_nuisRegr_newMask_speaker.mat...\n",
      "loading /dartfs-hpc/rc/lab/W/WheatleyT/f00589z/hyperscanning/storytelling/parseEPI_output_files/sub-hid000006_ses-pair06_task-storytelling2_run-02_bold_space-MNI152NLin2009cAsym_preproc_nuisRegr_newMask_listener.mat...\n",
      "saving file 25 of 32 to: \n",
      "/dartfs-hpc/rc/lab/W/WheatleyT/f00589z/hyperscanning/preprocessing/hyperalignment/input_nifti_files/sub-hid000006_ses-pair06_task-storytelling2_run-02_bold_space-MNI152NLin2009cAsym_preproc_nuisRegr_newMask_interp_uncut_ind.nii.gz\n",
      "loading /dartfs-hpc/rc/lab/W/WheatleyT/f00589z/hyperscanning/storytelling/parseEPI_output_files/sub-hid000006_ses-pair06_task-storytelling1_run-01_bold_space-MNI152NLin2009cAsym_preproc_nuisRegr_newMask_speaker.mat...\n",
      "loading /dartfs-hpc/rc/lab/W/WheatleyT/f00589z/hyperscanning/storytelling/parseEPI_output_files/sub-hid000006_ses-pair06_task-storytelling1_run-01_bold_space-MNI152NLin2009cAsym_preproc_nuisRegr_newMask_listener.mat...\n",
      "saving file 26 of 32 to: \n",
      "/dartfs-hpc/rc/lab/W/WheatleyT/f00589z/hyperscanning/preprocessing/hyperalignment/input_nifti_files/sub-hid000006_ses-pair06_task-storytelling1_run-01_bold_space-MNI152NLin2009cAsym_preproc_nuisRegr_newMask_interp_uncut_joint.nii.gz\n",
      "loading /dartfs-hpc/rc/lab/W/WheatleyT/f00589z/hyperscanning/storytelling/parseEPI_output_files/sub-hid000007_ses-pair07_task-storytelling2_run-02_bold_space-MNI152NLin2009cAsym_preproc_nuisRegr_newMask_speaker.mat...\n",
      "loading /dartfs-hpc/rc/lab/W/WheatleyT/f00589z/hyperscanning/storytelling/parseEPI_output_files/sub-hid000007_ses-pair07_task-storytelling2_run-02_bold_space-MNI152NLin2009cAsym_preproc_nuisRegr_newMask_listener.mat...\n",
      "saving file 27 of 32 to: \n",
      "/dartfs-hpc/rc/lab/W/WheatleyT/f00589z/hyperscanning/preprocessing/hyperalignment/input_nifti_files/sub-hid000007_ses-pair07_task-storytelling2_run-02_bold_space-MNI152NLin2009cAsym_preproc_nuisRegr_newMask_interp_uncut_ind.nii.gz\n",
      "loading /dartfs-hpc/rc/lab/W/WheatleyT/f00589z/hyperscanning/storytelling/parseEPI_output_files/sub-hid000007_ses-pair07_task-storytelling1_run-01_bold_space-MNI152NLin2009cAsym_preproc_nuisRegr_newMask_speaker.mat...\n",
      "loading /dartfs-hpc/rc/lab/W/WheatleyT/f00589z/hyperscanning/storytelling/parseEPI_output_files/sub-hid000007_ses-pair07_task-storytelling1_run-01_bold_space-MNI152NLin2009cAsym_preproc_nuisRegr_newMask_listener.mat...\n",
      "saving file 28 of 32 to: \n",
      "/dartfs-hpc/rc/lab/W/WheatleyT/f00589z/hyperscanning/preprocessing/hyperalignment/input_nifti_files/sub-hid000007_ses-pair07_task-storytelling1_run-01_bold_space-MNI152NLin2009cAsym_preproc_nuisRegr_newMask_interp_uncut_joint.nii.gz\n",
      "loading /dartfs-hpc/rc/lab/W/WheatleyT/f00589z/hyperscanning/storytelling/parseEPI_output_files/sub-hid000008_ses-pair08_task-storytelling1_run-01_bold_space-MNI152NLin2009cAsym_preproc_nuisRegr_newMask_speaker.mat...\n",
      "loading /dartfs-hpc/rc/lab/W/WheatleyT/f00589z/hyperscanning/storytelling/parseEPI_output_files/sub-hid000008_ses-pair08_task-storytelling1_run-01_bold_space-MNI152NLin2009cAsym_preproc_nuisRegr_newMask_listener.mat...\n",
      "saving file 29 of 32 to: \n",
      "/dartfs-hpc/rc/lab/W/WheatleyT/f00589z/hyperscanning/preprocessing/hyperalignment/input_nifti_files/sub-hid000008_ses-pair08_task-storytelling1_run-01_bold_space-MNI152NLin2009cAsym_preproc_nuisRegr_newMask_interp_uncut_ind.nii.gz\n",
      "loading /dartfs-hpc/rc/lab/W/WheatleyT/f00589z/hyperscanning/storytelling/parseEPI_output_files/sub-hid000008_ses-pair08_task-storytelling2_run-02_bold_space-MNI152NLin2009cAsym_preproc_nuisRegr_newMask_speaker.mat...\n",
      "loading /dartfs-hpc/rc/lab/W/WheatleyT/f00589z/hyperscanning/storytelling/parseEPI_output_files/sub-hid000008_ses-pair08_task-storytelling2_run-02_bold_space-MNI152NLin2009cAsym_preproc_nuisRegr_newMask_listener.mat...\n",
      "saving file 30 of 32 to: \n",
      "/dartfs-hpc/rc/lab/W/WheatleyT/f00589z/hyperscanning/preprocessing/hyperalignment/input_nifti_files/sub-hid000008_ses-pair08_task-storytelling2_run-02_bold_space-MNI152NLin2009cAsym_preproc_nuisRegr_newMask_interp_uncut_joint.nii.gz\n",
      "loading /dartfs-hpc/rc/lab/W/WheatleyT/f00589z/hyperscanning/storytelling/parseEPI_output_files/sub-hid000009_ses-pair09_task-storytelling1_run-01_bold_space-MNI152NLin2009cAsym_preproc_nuisRegr_newMask_speaker.mat...\n",
      "loading /dartfs-hpc/rc/lab/W/WheatleyT/f00589z/hyperscanning/storytelling/parseEPI_output_files/sub-hid000009_ses-pair09_task-storytelling1_run-01_bold_space-MNI152NLin2009cAsym_preproc_nuisRegr_newMask_listener.mat...\n",
      "saving file 31 of 32 to: \n",
      "/dartfs-hpc/rc/lab/W/WheatleyT/f00589z/hyperscanning/preprocessing/hyperalignment/input_nifti_files/sub-hid000009_ses-pair09_task-storytelling1_run-01_bold_space-MNI152NLin2009cAsym_preproc_nuisRegr_newMask_interp_uncut_ind.nii.gz\n"
     ]
    }
   ],
   "source": [
    "# get number of subjects\n",
    "numSubs = len(np.unique(fileList['subID']))\n",
    "\n",
    "# preallocate\n",
    "data = [[]] * numSubs\n",
    "\n",
    "# condition labels\n",
    "condLabs = ['ind','joint']\n",
    "\n",
    "ROW = 0\n",
    "for SUB in range(numSubs):\n",
    "    data[SUB] = [[]] * 2\n",
    "    for COND in [0,1]:\n",
    "\n",
    "        # get .mat file names\n",
    "        if fileList['speaker'][ROW]: # if the first row is a speaker file...\n",
    "\n",
    "            sFile = fileList['file'][ROW]\n",
    "            lFile = fileList['file'][ROW+1]\n",
    "\n",
    "        else:\n",
    "\n",
    "            lFile = fileList['file'][ROW]\n",
    "            sFile = fileList['file'][ROW+1]\n",
    "\n",
    "        # get corresponding nifti file name (arbitrarily use speaker file as reference)\n",
    "        niiFile = sFile[0:sFile.find('nuisRegr')] + 'nuisRegr_newMask.nii.gz'\n",
    "        niiFile = niiFile.replace('parseEPI_output_files','nuisRegr_output_files')\n",
    "\n",
    "        # preallocate separated speaker/listener data\n",
    "        sepData = [[]] * 2 # 0=speaker, 1=listener\n",
    "\n",
    "        # load speaker data\n",
    "        print('loading ' + sFile + '...')\n",
    "        dummyFile = sio.loadmat(sFile)\n",
    "        if fileList['site'][ROW] == 'DBIC': # dbic\n",
    "            order = [0,1] # listener, speaker\n",
    "            sepData[0] = dummyFile['dbicSpeaker']\n",
    "        else: # cbs\n",
    "            order = [1,0] # speaker, listener\n",
    "            sepData[0] = dummyFile['cbsSpeaker']\n",
    "        del dummyFile\n",
    "\n",
    "        # load listener data\n",
    "        print('loading ' + lFile + '...')\n",
    "        dummyFile = sio.loadmat(lFile)\n",
    "        if fileList['site'][ROW] == 'DBIC': # dbic\n",
    "            sepData[1] = dummyFile['dbicListener']\n",
    "        else: # cbs\n",
    "            sepData[1] = dummyFile['cbsListener']\n",
    "        del dummyFile\n",
    "\n",
    "        # preallocate\n",
    "        data[SUB][COND] = np.empty([int(totTRs*2),sepData[0].shape[1]])\n",
    "\n",
    "        # initialize row indices\n",
    "        rowInds = np.copy(turnTRs[0])\n",
    "\n",
    "        # for each pair of speaker-listener turns\n",
    "        for TURN in range(numTurns):\n",
    "\n",
    "            for SPEAKER in order:\n",
    "\n",
    "                # get data\n",
    "                data[SUB][COND][rowInds,:] = sepData[SPEAKER][turnTRs[TURN],:]\n",
    "                rowInds += TRsPerTurn\n",
    "\n",
    "        # standardize the time series\n",
    "        data[SUB][COND] = stats.zscore(data[SUB][COND],axis=0)\n",
    "\n",
    "        #%% load whole brain mask\n",
    "        maskImg = nImage.load_img(resampledMaskFile)\n",
    "\n",
    "        # initialize masker object from whole brain mask and nuisRegr output .nii file\n",
    "        masker = input_data.NiftiMasker(maskImg)\n",
    "        masker.fit_transform(niiFile)\n",
    "\n",
    "        #%% make new nifti with parsedEPI time series\n",
    "        outputFile = niiFile.replace(niiFile[0:niiFile.find('sub-')],'')\n",
    "        outputFile = outputFile.replace(niiFile[-7:],'_interp_uncut_' + condLabs[COND] + '.nii.gz')\n",
    "        outputFile = saveFolder + outputFile\n",
    "        print('saving file ' + str(SUB*2+COND+1) + ' of ' + str(int(fileList.shape[0] / 2)) + ' to: ')\n",
    "        print(outputFile)\n",
    "        cleaned_img = masker.inverse_transform(data[SUB][COND])\n",
    "        cleaned_img.to_filename(outputFile)\n",
    "\n",
    "        # increment row indices\n",
    "        ROW += 2"
   ],
   "metadata": {
    "collapsed": false,
    "pycharm": {
     "name": "#%%\n",
     "is_executing": true
    }
   }
  },
  {
   "cell_type": "code",
   "execution_count": null,
   "outputs": [],
   "source": [],
   "metadata": {
    "collapsed": false,
    "pycharm": {
     "name": "#%%\n"
    }
   }
  }
 ],
 "metadata": {
  "kernelspec": {
   "name": "hypescancentral",
   "language": "python",
   "display_name": "hypeScanKernel"
  },
  "language_info": {
   "codemirror_mode": {
    "name": "ipython",
    "version": 2
   },
   "file_extension": ".py",
   "mimetype": "text/x-python",
   "name": "python",
   "nbconvert_exporter": "python",
   "pygments_lexer": "ipython2",
   "version": "2.7.6"
  }
 },
 "nbformat": 4,
 "nbformat_minor": 0
}