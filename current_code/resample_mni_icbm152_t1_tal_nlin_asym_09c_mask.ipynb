{
 "cells": [
  {
   "cell_type": "code",
   "execution_count": null,
   "outputs": [],
   "source": [
    "\"\"\"\n",
    "This notebook loads an example epi file from the storytelling dataset\n",
    "(sub-hid000002_ses-pair02_task-storytelling3_run-03_bold_space-MNI152NLin2009cAsym_preproc.nii.gz)\n",
    "and extracts affine and time series dimensions. It then loads the ICBM 2009c Nonlinear Asymmetric\n",
    "whole brain mask (mni_icbm152_t1_tal_nlin_asym_09c_mask.nii) from (here:\n",
    "https://www.bic.mni.mcgill.ca/ServicesAtlases/ICBM152NLin2009) and resamples it using the\n",
    "affine and shape information from the example file.\n",
    "\"\"\""
   ],
   "metadata": {
    "collapsed": false,
    "pycharm": {
     "name": "#%% description\n"
    }
   }
  },
  {
   "cell_type": "code",
   "execution_count": 1,
   "metadata": {
    "collapsed": true,
    "pycharm": {
     "name": "#%% imports\n"
    }
   },
   "outputs": [],
   "source": [
    "import numpy as np\n",
    "from nilearn import image as nImage\n",
    "import nibabel as nb"
   ]
  },
  {
   "cell_type": "code",
   "execution_count": 2,
   "outputs": [],
   "source": [
    "# example EPI image from fmriPrep output\n",
    "epiFile = '/dartfs-hpc/rc/lab/W/WheatleyT/f00589z/hyperscanning/control_tasks/tmp/sub-hid000002_ses-pair02_task-storytelling3_run-03_bold_space-MNI152NLin2009cAsym_preproc.nii.gz'\n",
    "\n",
    "# mask - downloaded from:\n",
    "# https://www.bic.mni.mcgill.ca/ServicesAtlases/ICBM152NLin2009\n",
    "maskFile = '/dartfs-hpc/rc/lab/W/WheatleyT/f00589z/hyperscanning/misc/mni_icbm152_nlin_asym_09c/mni_icbm152_t1_tal_nlin_asym_09c_mask.nii'\n",
    "\n",
    "# path for saving out resampled mask\n",
    "resampledMaskFile = '/dartfs-hpc/rc/lab/W/WheatleyT/f00589z/hyperscanning/misc/mni_icbm152_nlin_asym_09c/mni_icbm152_t1_tal_nlin_asym_09c_mask_RESAMPLED.nii'"
   ],
   "metadata": {
    "collapsed": false,
    "pycharm": {
     "name": "#%% set paths\n"
    }
   }
  },
  {
   "cell_type": "code",
   "execution_count": 3,
   "outputs": [
    {
     "name": "stdout",
     "output_type": "stream",
     "text": [
      "Expected affine: [[   3.    0.    0.  -96.]\n",
      " [   0.    3.    0. -132.]\n",
      " [   0.    0.    3.  -78.]\n",
      " [   0.    0.    0.    1.]]\n",
      "Expected shape: (65, 77, 65)\n",
      "pre-resampling mask affine: [[   1.    0.    0.  -96.]\n",
      " [   0.    1.    0. -132.]\n",
      " [   0.    0.    1.  -78.]\n",
      " [   0.    0.    0.    1.]]\n",
      "pre-resampling mask shape: (193, 229, 193)\n",
      "post-resampling mask affine: [[   3.    0.    0.  -96.]\n",
      " [   0.    3.    0. -132.]\n",
      " [   0.    0.    3.  -78.]\n",
      " [   0.    0.    0.    1.]]\n",
      "post-resampling mask shape: (65, 77, 65)\n"
     ]
    },
    {
     "name": "stderr",
     "output_type": "stream",
     "text": [
      "<ipython-input-3-ff469948d2c1>:27: DeprecationWarning: get_data() is deprecated in favor of get_fdata(), which has a more predictable return type. To obtain get_data() behavior going forward, use numpy.asanyarray(img.dataobj).\n",
      "\n",
      "* deprecated from version: 3.0\n",
      "* Will raise <class 'nibabel.deprecator.ExpiredDeprecationError'> as of version: 5.0\n",
      "  dataMask = maskImg.get_data()\n"
     ]
    }
   ],
   "source": [
    "# load example EPI image\n",
    "tempImg = nImage.load_img(epiFile)\n",
    "\n",
    "# set expected affine and shape based on example EPI image\n",
    "expectedAffine = tempImg.affine\n",
    "expectedShape = tempImg.shape[:3]\n",
    "print('Expected affine: ' + str(expectedAffine))\n",
    "print('Expected shape: ' + str(expectedShape))\n",
    "\n",
    "# load mask\n",
    "maskImg_OG = nImage.load_img(maskFile)\n",
    "print('pre-resampling mask affine: ' + str(maskImg_OG.affine))\n",
    "print('pre-resampling mask shape: ' + str(maskImg_OG.shape[:3]))\n",
    "\n",
    "# re-sample mask\n",
    "maskImg = nImage.resample_img(maskImg_OG,\n",
    "                              target_affine=expectedAffine,\n",
    "                              target_shape=expectedShape)\n",
    "print('post-resampling mask affine: ' + str(maskImg.affine))\n",
    "print('post-resampling mask shape: ' + str(maskImg.shape))\n",
    "\n",
    "# Get data from resampled mask -- note that due to continuous interpolation,\n",
    "# the mask will no longer be binary/boolean. Instead, each voxel will contain\n",
    "# the mean of the 1s and 0s that were interpolated over in the resampling\n",
    "# process. We take this as a proxy for the likelihood that a given voxel\n",
    "# should be incorporated as a \"brain\" voxel (i.e., a 1) in the mask.\n",
    "dataMask = maskImg.get_data()\n",
    "\n",
    "# Set minimum 'likelihood' value for inclusion as a \"brain\" voxel in the mask\n",
    "maskBoolCutoff = 0.1\n",
    "\n",
    "# binarize\n",
    "dataMask[dataMask >= maskBoolCutoff] = 1\n",
    "dataMask[dataMask < maskBoolCutoff] = 0\n",
    "\n",
    "# make a new image with the binarized mask data\n",
    "maskImg = nb.Nifti1Image(dataMask,\n",
    "                         maskImg.affine,\n",
    "                         maskImg.header)"
   ],
   "metadata": {
    "collapsed": false,
    "pycharm": {
     "name": "#%%\n"
    }
   }
  },
  {
   "cell_type": "code",
   "execution_count": 4,
   "outputs": [],
   "source": [
    "maskImg.to_filename(resampledMaskFile)\n"
   ],
   "metadata": {
    "collapsed": false,
    "pycharm": {
     "name": "#%% save out the new image\n"
    }
   }
  }
 ],
 "metadata": {
  "kernelspec": {
   "name": "hypescancentral",
   "language": "python",
   "display_name": "hypeScanKernel"
  },
  "language_info": {
   "codemirror_mode": {
    "name": "ipython",
    "version": 2
   },
   "file_extension": ".py",
   "mimetype": "text/x-python",
   "name": "python",
   "nbconvert_exporter": "python",
   "pygments_lexer": "ipython2",
   "version": "2.7.6"
  }
 },
 "nbformat": 4,
 "nbformat_minor": 0
}