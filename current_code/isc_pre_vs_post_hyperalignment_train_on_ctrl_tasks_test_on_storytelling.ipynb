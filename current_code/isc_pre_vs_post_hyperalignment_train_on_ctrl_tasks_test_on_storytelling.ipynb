{
 "cells": [
  {
   "cell_type": "code",
   "execution_count": null,
   "metadata": {
    "collapsed": true,
    "pycharm": {
     "name": "#%% description\n"
    }
   },
   "outputs": [],
   "source": [
    "\"\"\"\n",
    "Import ISC vectors from hyperalignment_train_on_ctrl_tasks_test_on_storytelling.py,\n",
    "generate statmaps, and make surface plots.\n",
    "\"\"\""
   ]
  },
  {
   "cell_type": "code",
   "execution_count": null,
   "outputs": [],
   "source": [
    "import numpy as np\n",
    "import pandas as pd\n",
    "from nilearn import image as nImage\n",
    "from nilearn import input_data\n",
    "from nilearn import datasets\n",
    "from nilearn import surface\n",
    "from nilearn import plotting"
   ],
   "metadata": {
    "collapsed": false,
    "pycharm": {
     "name": "#%% imports\n"
    }
   }
  },
  {
   "cell_type": "code",
   "execution_count": 46,
   "outputs": [],
   "source": [
    "# results folder\n",
    "resultsFolder = '/dartfs-hpc/rc/lab/W/WheatleyT/f00589z/hyperscanning/preprocessing/hyperalignment/results/'\n",
    "\n",
    "# dataset parameters for loading\n",
    "trainTask = 3 # 1=storytelling_independent, 2=storytelling_joint, 3=listening, 4=reading, 5=listening_&_reading\n",
    "testCond = 1 # 0=independent, 1=joint\n",
    "testTask = 1 # 0=all, 1=storytelling listening intervals, 2=storytelling reading intervals\n",
    "\n",
    "# define hyperscanning task descriptions\n",
    "taskDescrips = ['storytelling_independent',\n",
    "                'storytelling_joint',\n",
    "                'listening',\n",
    "                'reading',\n",
    "                'listening_&_reading']\n",
    "\n",
    "\n",
    "baseFolder = '/dartfs-hpc/rc/lab/W/WheatleyT/f00589z/hyperscanning/preprocessing/hyperalignment/'\n",
    "fileName = 'train_on_' + taskDescrips[trainTask-1] + '_test_on_' + taskDescrips[testCond]\n",
    "saveFile = baseFolder + 'results/' + fileName\n",
    "if testTask == 0:\n",
    "    testTag = 'all'\n",
    "elif testTask == 1:\n",
    "    testTag = 'listening'\n",
    "elif testTask == 2:\n",
    "    testTag = 'speaking'\n",
    "saveFile = saveFile + '_' + testTag\n",
    "\n",
    "# set data files (0=pre-hyperalignment, 1=post-hyperalignment)\n",
    "files = [saveFile + '_med_corr_pre_hyp.npy',\n",
    "         saveFile + '_med_corr_post_hyp.npy']\n",
    "\n",
    "labels = [[]] * 3\n",
    "labels[0] = ['training data, pre-hyp', 'testing data, pre-hyp']\n",
    "labels[1] = ['training data, post-hyp', 'testing data, post-hyp']\n",
    "labels[2] = ['training data, diff', 'testing data, diff']"
   ],
   "metadata": {
    "collapsed": false,
    "pycharm": {
     "name": "#%% set folder and file paths\n"
    }
   }
  },
  {
   "cell_type": "code",
   "execution_count": 47,
   "outputs": [],
   "source": [
    "def surfaceStatMap(masker,statMapVec,avgSurface,thresh=0,conditions=['']):\n",
    "\n",
    "    \"\"\"\n",
    "    :param masker:\n",
    "    :param statMapVec:\n",
    "    :param avgSurface:\n",
    "    :param thresh:\n",
    "    :param conditions: array of strings corresponding to different conditions\n",
    "    :return:\n",
    "    \"\"\"\n",
    "\n",
    "    # preallocate task arrays\n",
    "    statMap = [[]] * len(conditions)\n",
    "    texture = [[]] * len(conditions)\n",
    "    view = [[]] * len(conditions)\n",
    "\n",
    "    # for each task...\n",
    "    for COND in range(len(conditions)):\n",
    "\n",
    "        # get stat map\n",
    "        statMap[COND] = masker.inverse_transform(statMapVec[COND])\n",
    "\n",
    "        # surface plot\n",
    "        texture[COND] = [[]] * 2\n",
    "        view[COND] = [[]] * 2\n",
    "\n",
    "        for HEMI in [0,1]:\n",
    "            if HEMI == 0:\n",
    "                texture[COND][HEMI] = surface.vol_to_surf(statMap[COND], avgSurface.pial_left)\n",
    "                view[COND][HEMI] = plotting.view_surf(avgSurface.infl_left,\n",
    "                                                                       texture[COND][HEMI],\n",
    "                                                                       threshold=thresh,\n",
    "                                                                       colorbar=True,\n",
    "                                                                       title= conditions[COND] + ' left',\n",
    "                                                                       bg_map=avgSurface.sulc_left)\n",
    "            else:\n",
    "                texture[COND][HEMI] = surface.vol_to_surf(statMap[COND], avgSurface.pial_right)\n",
    "                view[COND][HEMI] = plotting.view_surf(avgSurface.infl_right,\n",
    "                                                                       texture[COND][HEMI],\n",
    "                                                                       threshold=thresh,\n",
    "                                                                       colorbar=True,\n",
    "                                                                       title=conditions[COND] + ', right',\n",
    "                                                                       bg_map=avgSurface.sulc_right)\n",
    "\n",
    "    return view\n"
   ],
   "metadata": {
    "collapsed": false,
    "pycharm": {
     "name": "#%% define function for plotting surface stat maps\n"
    }
   }
  },
  {
   "cell_type": "code",
   "execution_count": 48,
   "outputs": [],
   "source": [
    "# get masker object and average surface mesh\n",
    "maskFile = '/dartfs-hpc/rc/lab/W/WheatleyT/f00589z/hyperscanning/misc/mni_icbm152_nlin_asym_09c/mni_icbm152_t1_tal_nlin_asym_09c_mask_RESAMPLED.nii'\n",
    "maskImg = nImage.load_img(maskFile)\n",
    "masker = input_data.NiftiMasker(maskImg)\n",
    "masker.fit_transform(maskImg)\n",
    "fsaverage = datasets.fetch_surf_fsaverage()"
   ],
   "metadata": {
    "collapsed": false,
    "pycharm": {
     "name": "#%% get masker object\n"
    }
   }
  },
  {
   "cell_type": "code",
   "execution_count": 49,
   "outputs": [
    {
     "name": "stderr",
     "output_type": "stream",
     "text": [
      "/dartfs-hpc/rc/home/z/f00589z/.conda/envs/hypeScanCentral/lib/python3.9/site-packages/nilearn/plotting/html_document.py:56: UserWarning: It seems you have created more than 10 nilearn views. As each view uses dozens of megabytes of RAM, you might want to delete some of them.\n",
      "  warnings.warn('It seems you have created more than {} '\n",
      "/dartfs-hpc/rc/home/z/f00589z/.conda/envs/hypeScanCentral/lib/python3.9/site-packages/nilearn/plotting/html_document.py:56: UserWarning: It seems you have created more than 10 nilearn views. As each view uses dozens of megabytes of RAM, you might want to delete some of them.\n",
      "  warnings.warn('It seems you have created more than {} '\n",
      "/dartfs-hpc/rc/home/z/f00589z/.conda/envs/hypeScanCentral/lib/python3.9/site-packages/nilearn/plotting/html_document.py:56: UserWarning: It seems you have created more than 10 nilearn views. As each view uses dozens of megabytes of RAM, you might want to delete some of them.\n",
      "  warnings.warn('It seems you have created more than {} '\n",
      "/dartfs-hpc/rc/home/z/f00589z/.conda/envs/hypeScanCentral/lib/python3.9/site-packages/nilearn/plotting/html_document.py:56: UserWarning: It seems you have created more than 10 nilearn views. As each view uses dozens of megabytes of RAM, you might want to delete some of them.\n",
      "  warnings.warn('It seems you have created more than {} '\n",
      "/dartfs-hpc/rc/home/z/f00589z/.conda/envs/hypeScanCentral/lib/python3.9/site-packages/nilearn/plotting/html_document.py:56: UserWarning: It seems you have created more than 10 nilearn views. As each view uses dozens of megabytes of RAM, you might want to delete some of them.\n",
      "  warnings.warn('It seems you have created more than {} '\n",
      "/dartfs-hpc/rc/home/z/f00589z/.conda/envs/hypeScanCentral/lib/python3.9/site-packages/nilearn/plotting/html_document.py:56: UserWarning: It seems you have created more than 10 nilearn views. As each view uses dozens of megabytes of RAM, you might want to delete some of them.\n",
      "  warnings.warn('It seems you have created more than {} '\n",
      "/dartfs-hpc/rc/home/z/f00589z/.conda/envs/hypeScanCentral/lib/python3.9/site-packages/nilearn/plotting/html_document.py:56: UserWarning: It seems you have created more than 10 nilearn views. As each view uses dozens of megabytes of RAM, you might want to delete some of them.\n",
      "  warnings.warn('It seems you have created more than {} '\n",
      "/dartfs-hpc/rc/home/z/f00589z/.conda/envs/hypeScanCentral/lib/python3.9/site-packages/nilearn/plotting/html_document.py:56: UserWarning: It seems you have created more than 10 nilearn views. As each view uses dozens of megabytes of RAM, you might want to delete some of them.\n",
      "  warnings.warn('It seems you have created more than {} '\n",
      "/dartfs-hpc/rc/home/z/f00589z/.conda/envs/hypeScanCentral/lib/python3.9/site-packages/nilearn/plotting/html_document.py:56: UserWarning: It seems you have created more than 10 nilearn views. As each view uses dozens of megabytes of RAM, you might want to delete some of them.\n",
      "  warnings.warn('It seems you have created more than {} '\n",
      "/dartfs-hpc/rc/home/z/f00589z/.conda/envs/hypeScanCentral/lib/python3.9/site-packages/nilearn/plotting/html_document.py:56: UserWarning: It seems you have created more than 10 nilearn views. As each view uses dozens of megabytes of RAM, you might want to delete some of them.\n",
      "  warnings.warn('It seems you have created more than {} '\n",
      "/dartfs-hpc/rc/home/z/f00589z/.conda/envs/hypeScanCentral/lib/python3.9/site-packages/nilearn/plotting/html_document.py:56: UserWarning: It seems you have created more than 10 nilearn views. As each view uses dozens of megabytes of RAM, you might want to delete some of them.\n",
      "  warnings.warn('It seems you have created more than {} '\n"
     ]
    }
   ],
   "source": [
    "# preallocate\n",
    "medCorr = [[]] * 3\n",
    "statMaps = [[]] * 3\n",
    "\n",
    "# loop through results files\n",
    "for HYP in range(len(files)):\n",
    "\n",
    "    # load data\n",
    "    medCorr[HYP] = list(np.load(files[HYP]))\n",
    "\n",
    "    # make statmap\n",
    "    statMaps[HYP] = surfaceStatMap(masker,medCorr[HYP],fsaverage,0,[labels[HYP][0], labels[HYP][1]])\n",
    "\n",
    "# get pre-post difference\n",
    "medCorr[2] = [[]] * 2\n",
    "for DS in range(2):\n",
    "    medCorr[2][DS] = medCorr[1][DS] - medCorr[0][DS]\n",
    "\n",
    "# make difference statmap\n",
    "statMaps[2] = surfaceStatMap(masker,medCorr[2],fsaverage,0,[labels[2][0], labels[2][1]])"
   ],
   "metadata": {
    "collapsed": false,
    "pycharm": {
     "name": "#%% load data and make maps\n"
    }
   }
  },
  {
   "cell_type": "code",
   "execution_count": 54,
   "outputs": [
    {
     "data": {
      "text/plain": "(69880,)"
     },
     "execution_count": 54,
     "metadata": {},
     "output_type": "execute_result"
    }
   ],
   "source": [],
   "metadata": {
    "collapsed": false,
    "pycharm": {
     "name": "#%%\n"
    }
   }
  },
  {
   "cell_type": "code",
   "execution_count": 50,
   "outputs": [
    {
     "name": "stdout",
     "output_type": "stream",
     "text": [
      "train_on_listening_test_on_storytelling_joint\n",
      "train set pre-hyp: 0.06\n",
      "train set post-hyp: 0.28\n",
      "test set pre-hyp: 0.07\n",
      "test set post-hyp: 0.03\n"
     ]
    }
   ],
   "source": [
    "# conditions\n",
    "print(fileName)\n",
    "\n",
    "# initialize dataframe to track the change in ISC pre-/post/hyperalignment in the training and testing datasets\n",
    "meanMedCorrDiff = pd.DataFrame(columns=['Δ training set', 'Δ testing set'], index=range(1))\n",
    "\n",
    "times = ['pre','post']\n",
    "dataTypes = ['train','test']\n",
    "i = 0\n",
    "for DATA in [0,1]:\n",
    "    for TIME in [0,1]:\n",
    "        print(dataTypes[DATA] + ' set ' + times[TIME] + '-hyp: ' + str(np.round(np.mean(medCorr[TIME][DATA]),2)))\n",
    "    meanMedCorrDiff.iloc[0,DATA] = np.round(np.mean(medCorr[1][DATA]) - np.mean(medCorr[0][DATA]),3)\n"
   ],
   "metadata": {
    "collapsed": false,
    "pycharm": {
     "name": "#%% some feedback and get array with median ISC values\n"
    }
   }
  },
  {
   "cell_type": "code",
   "execution_count": 51,
   "outputs": [
    {
     "data": {
      "text/plain": "  Δ training set Δ testing set\n0          0.217        -0.041",
      "text/html": "<div>\n<style scoped>\n    .dataframe tbody tr th:only-of-type {\n        vertical-align: middle;\n    }\n\n    .dataframe tbody tr th {\n        vertical-align: top;\n    }\n\n    .dataframe thead th {\n        text-align: right;\n    }\n</style>\n<table border=\"1\" class=\"dataframe\">\n  <thead>\n    <tr style=\"text-align: right;\">\n      <th></th>\n      <th>Δ training set</th>\n      <th>Δ testing set</th>\n    </tr>\n  </thead>\n  <tbody>\n    <tr>\n      <th>0</th>\n      <td>0.217</td>\n      <td>-0.041</td>\n    </tr>\n  </tbody>\n</table>\n</div>"
     },
     "execution_count": 51,
     "metadata": {},
     "output_type": "execute_result"
    }
   ],
   "source": [
    "meanMedCorrDiff"
   ],
   "metadata": {
    "collapsed": false,
    "pycharm": {
     "name": "#%% print table for copying and pasting\n"
    }
   }
  },
  {
   "cell_type": "code",
   "execution_count": null,
   "outputs": [],
   "source": [
    "statMaps[2][0][0]"
   ],
   "metadata": {
    "collapsed": false,
    "pycharm": {
     "name": "#%%\n"
    }
   }
  },
  {
   "cell_type": "code",
   "execution_count": null,
   "outputs": [],
   "source": [
    "statMaps[2][0][1]"
   ],
   "metadata": {
    "collapsed": false,
    "pycharm": {
     "name": "#%%\n"
    }
   }
  },
  {
   "cell_type": "code",
   "execution_count": null,
   "outputs": [],
   "source": [
    "statMaps[2][1][0]"
   ],
   "metadata": {
    "collapsed": false,
    "pycharm": {
     "name": "#%%\n"
    }
   }
  },
  {
   "cell_type": "code",
   "execution_count": null,
   "outputs": [],
   "source": [
    "statMaps[2][1][1]\n"
   ],
   "metadata": {
    "collapsed": false,
    "pycharm": {
     "name": "#%%\n"
    }
   }
  },
  {
   "cell_type": "code",
   "execution_count": null,
   "outputs": [],
   "source": [],
   "metadata": {
    "collapsed": false,
    "pycharm": {
     "name": "#%%\n"
    }
   }
  }
 ],
 "metadata": {
  "kernelspec": {
   "name": "hypescancentral",
   "language": "python",
   "display_name": "hypeScanKernel"
  },
  "language_info": {
   "codemirror_mode": {
    "name": "ipython",
    "version": 2
   },
   "file_extension": ".py",
   "mimetype": "text/x-python",
   "name": "python",
   "nbconvert_exporter": "python",
   "pygments_lexer": "ipython2",
   "version": "2.7.6"
  }
 },
 "nbformat": 4,
 "nbformat_minor": 0
}